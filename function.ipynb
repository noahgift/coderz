{
  "nbformat": 4,
  "nbformat_minor": 0,
  "metadata": {
    "colab": {
      "name": "function.ipynb",
      "provenance": [],
      "authorship_tag": "ABX9TyOje5mmQGDhFfhaY/3IhKlu",
      "include_colab_link": true
    },
    "kernelspec": {
      "name": "python3",
      "display_name": "Python 3"
    }
  },
  "cells": [
    {
      "cell_type": "markdown",
      "metadata": {
        "id": "view-in-github",
        "colab_type": "text"
      },
      "source": [
        "<a href=\"https://colab.research.google.com/github/noahgift/coderz/blob/master/function.ipynb\" target=\"_parent\"><img src=\"https://colab.research.google.com/assets/colab-badge.svg\" alt=\"Open In Colab\"/></a>"
      ]
    },
    {
      "cell_type": "markdown",
      "metadata": {
        "id": "s0bqCoAsiGbk",
        "colab_type": "text"
      },
      "source": [
        "What is a function?\n",
        "\n",
        "* A unit of work\n",
        "* takes something in\n",
        "* processes it\n",
        "* Returns result"
      ]
    },
    {
      "cell_type": "markdown",
      "metadata": {
        "id": "hmq2N6lWjG0q",
        "colab_type": "text"
      },
      "source": [
        "How is different than a statement?\n",
        "\n",
        "* Statement isn't reusable\n"
      ]
    },
    {
      "cell_type": "code",
      "metadata": {
        "id": "slPfBCB2jOnh",
        "colab_type": "code",
        "colab": {
          "base_uri": "https://localhost:8080/",
          "height": 34
        },
        "outputId": "c5cf098c-a196-4bd5-bfcf-5e22ad6c78e8"
      },
      "source": [
        "x = 1\n",
        "y = 2\n",
        "x + y"
      ],
      "execution_count": 5,
      "outputs": [
        {
          "output_type": "execute_result",
          "data": {
            "text/plain": [
              "3"
            ]
          },
          "metadata": {
            "tags": []
          },
          "execution_count": 5
        }
      ]
    },
    {
      "cell_type": "markdown",
      "metadata": {
        "id": "nEYgjse2iQtL",
        "colab_type": "text"
      },
      "source": [
        "### Add function"
      ]
    },
    {
      "cell_type": "code",
      "metadata": {
        "id": "18JMtyl0iELM",
        "colab_type": "code",
        "colab": {}
      },
      "source": [
        "def add(x,y):\n",
        "    return x+y\n",
        "\n",
        "    "
      ],
      "execution_count": 6,
      "outputs": []
    },
    {
      "cell_type": "code",
      "metadata": {
        "id": "wsM2S1lOiYup",
        "colab_type": "code",
        "colab": {
          "base_uri": "https://localhost:8080/",
          "height": 34
        },
        "outputId": "9c3fe4dc-ee16-484a-cbc8-31479f1e819a"
      },
      "source": [
        "add(1,2)"
      ],
      "execution_count": 7,
      "outputs": [
        {
          "output_type": "execute_result",
          "data": {
            "text/plain": [
              "3"
            ]
          },
          "metadata": {
            "tags": []
          },
          "execution_count": 7
        }
      ]
    },
    {
      "cell_type": "markdown",
      "metadata": {
        "id": "EzmiAU19iglW",
        "colab_type": "text"
      },
      "source": [
        "## Make Subtract Function"
      ]
    },
    {
      "cell_type": "code",
      "metadata": {
        "id": "B0z1qsjYict_",
        "colab_type": "code",
        "colab": {}
      },
      "source": [
        ""
      ],
      "execution_count": null,
      "outputs": []
    },
    {
      "cell_type": "markdown",
      "metadata": {
        "id": "1fnvP9LAijC6",
        "colab_type": "text"
      },
      "source": [
        "## Make Two Strings add Function"
      ]
    },
    {
      "cell_type": "code",
      "metadata": {
        "id": "qsPFKLqRil5n",
        "colab_type": "code",
        "colab": {}
      },
      "source": [
        ""
      ],
      "execution_count": null,
      "outputs": []
    },
    {
      "cell_type": "markdown",
      "metadata": {
        "id": "0sDlxudVinHb",
        "colab_type": "text"
      },
      "source": [
        "### Make a String Multiply by some number"
      ]
    },
    {
      "cell_type": "code",
      "metadata": {
        "id": "8ZnASRG_iryx",
        "colab_type": "code",
        "colab": {}
      },
      "source": [
        ""
      ],
      "execution_count": null,
      "outputs": []
    }
  ]
}