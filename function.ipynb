{
  "nbformat": 4,
  "nbformat_minor": 0,
  "metadata": {
    "colab": {
      "name": "function.ipynb",
      "provenance": [],
      "authorship_tag": "ABX9TyM+UdRrSspWGXpDHCuPBe3M",
      "include_colab_link": true
    },
    "kernelspec": {
      "name": "python3",
      "display_name": "Python 3"
    }
  },
  "cells": [
    {
      "cell_type": "markdown",
      "metadata": {
        "id": "view-in-github",
        "colab_type": "text"
      },
      "source": [
        "<a href=\"https://colab.research.google.com/github/noahgift/coderz/blob/master/function.ipynb\" target=\"_parent\"><img src=\"https://colab.research.google.com/assets/colab-badge.svg\" alt=\"Open In Colab\"/></a>"
      ]
    },
    {
      "cell_type": "markdown",
      "metadata": {
        "id": "s0bqCoAsiGbk",
        "colab_type": "text"
      },
      "source": [
        "What is a function?\n",
        "\n",
        "* A unit of work\n",
        "* takes something in\n",
        "* processes it\n",
        "* Returns result"
      ]
    },
    {
      "cell_type": "markdown",
      "metadata": {
        "id": "hmq2N6lWjG0q",
        "colab_type": "text"
      },
      "source": [
        "How is different than a statement?\n",
        "\n",
        "* Statement isn't reusable\n"
      ]
    },
    {
      "cell_type": "code",
      "metadata": {
        "id": "slPfBCB2jOnh",
        "colab_type": "code",
        "colab": {
          "base_uri": "https://localhost:8080/",
          "height": 34
        },
        "outputId": "0f307942-e445-4a33-fba7-37f067b6af40"
      },
      "source": [
        "x = 1\n",
        "y = 2\n",
        "x + y"
      ],
      "execution_count": 1,
      "outputs": [
        {
          "output_type": "execute_result",
          "data": {
            "text/plain": [
              "3"
            ]
          },
          "metadata": {
            "tags": []
          },
          "execution_count": 1
        }
      ]
    },
    {
      "cell_type": "code",
      "metadata": {
        "id": "trTcpd1Lj5B_",
        "colab_type": "code",
        "colab": {
          "base_uri": "https://localhost:8080/",
          "height": 34
        },
        "outputId": "7578b321-c9f9-4b77-bed1-09821948a1fb"
      },
      "source": [
        "a = 4\n",
        "b = 5\n",
        "b - a \n"
      ],
      "execution_count": 2,
      "outputs": [
        {
          "output_type": "execute_result",
          "data": {
            "text/plain": [
              "1"
            ]
          },
          "metadata": {
            "tags": []
          },
          "execution_count": 2
        }
      ]
    },
    {
      "cell_type": "markdown",
      "metadata": {
        "id": "nEYgjse2iQtL",
        "colab_type": "text"
      },
      "source": [
        "### Add function"
      ]
    },
    {
      "cell_type": "code",
      "metadata": {
        "id": "18JMtyl0iELM",
        "colab_type": "code",
        "colab": {}
      },
      "source": [
        "def add(x,y):\n",
        "    return x+y\n",
        "\n",
        "    "
      ],
      "execution_count": 3,
      "outputs": []
    },
    {
      "cell_type": "code",
      "metadata": {
        "id": "wsM2S1lOiYup",
        "colab_type": "code",
        "colab": {
          "base_uri": "https://localhost:8080/",
          "height": 34
        },
        "outputId": "7a97cd2f-e53b-4e64-fd31-9d704e99a01e"
      },
      "source": [
        "add(1,2)"
      ],
      "execution_count": 4,
      "outputs": [
        {
          "output_type": "execute_result",
          "data": {
            "text/plain": [
              "3"
            ]
          },
          "metadata": {
            "tags": []
          },
          "execution_count": 4
        }
      ]
    },
    {
      "cell_type": "code",
      "metadata": {
        "id": "B93SIw1ukDbK",
        "colab_type": "code",
        "colab": {
          "base_uri": "https://localhost:8080/",
          "height": 34
        },
        "outputId": "b7f9d492-f0ef-4d0a-951d-6505a1ea44d1"
      },
      "source": [
        "add(2,2)"
      ],
      "execution_count": 5,
      "outputs": [
        {
          "output_type": "execute_result",
          "data": {
            "text/plain": [
              "4"
            ]
          },
          "metadata": {
            "tags": []
          },
          "execution_count": 5
        }
      ]
    },
    {
      "cell_type": "markdown",
      "metadata": {
        "id": "EzmiAU19iglW",
        "colab_type": "text"
      },
      "source": [
        "## Make Subtract Function"
      ]
    },
    {
      "cell_type": "code",
      "metadata": {
        "colab_type": "code",
        "id": "bubQ-ykgkNX2",
        "colab": {
          "base_uri": "https://localhost:8080/",
          "height": 34
        },
        "outputId": "71e64345-908f-438d-ce0a-ae5b92f9c30f"
      },
      "source": [
        "a = 4\n",
        "b = 5\n",
        "b - a \n"
      ],
      "execution_count": 6,
      "outputs": [
        {
          "output_type": "execute_result",
          "data": {
            "text/plain": [
              "1"
            ]
          },
          "metadata": {
            "tags": []
          },
          "execution_count": 6
        }
      ]
    },
    {
      "cell_type": "markdown",
      "metadata": {
        "id": "1fnvP9LAijC6",
        "colab_type": "text"
      },
      "source": [
        "## Make Two Strings add Function"
      ]
    },
    {
      "cell_type": "code",
      "metadata": {
        "id": "qsPFKLqRil5n",
        "colab_type": "code",
        "colab": {
          "base_uri": "https://localhost:8080/",
          "height": 35
        },
        "outputId": "9afbeea0-e8d9-447d-a902-f6942081dece"
      },
      "source": [
        "\"apple\" + \" butter\""
      ],
      "execution_count": 7,
      "outputs": [
        {
          "output_type": "execute_result",
          "data": {
            "application/vnd.google.colaboratory.intrinsic": {
              "type": "string"
            },
            "text/plain": [
              "'apple butter'"
            ]
          },
          "metadata": {
            "tags": []
          },
          "execution_count": 7
        }
      ]
    },
    {
      "cell_type": "markdown",
      "metadata": {
        "id": "0sDlxudVinHb",
        "colab_type": "text"
      },
      "source": [
        "### Make a String Multiply by some number"
      ]
    },
    {
      "cell_type": "code",
      "metadata": {
        "id": "8ZnASRG_iryx",
        "colab_type": "code",
        "colab": {
          "base_uri": "https://localhost:8080/",
          "height": 35
        },
        "outputId": "e797c2dc-be63-4c00-8443-1d5ccc228851"
      },
      "source": [
        "\"apples \" * 5"
      ],
      "execution_count": 8,
      "outputs": [
        {
          "output_type": "execute_result",
          "data": {
            "application/vnd.google.colaboratory.intrinsic": {
              "type": "string"
            },
            "text/plain": [
              "'apples apples apples apples apples '"
            ]
          },
          "metadata": {
            "tags": []
          },
          "execution_count": 8
        }
      ]
    },
    {
      "cell_type": "code",
      "metadata": {
        "id": "uzK-kEgfkWP-",
        "colab_type": "code",
        "colab": {}
      },
      "source": [
        ""
      ],
      "execution_count": null,
      "outputs": []
    }
  ]
}