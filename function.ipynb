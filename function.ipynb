{
  "nbformat": 4,
  "nbformat_minor": 0,
  "metadata": {
    "colab": {
      "name": "function.ipynb",
      "provenance": [],
      "authorship_tag": "ABX9TyOZaEFefeoD11lUwPRwk0vX",
      "include_colab_link": true
    },
    "kernelspec": {
      "name": "python3",
      "display_name": "Python 3"
    }
  },
  "cells": [
    {
      "cell_type": "markdown",
      "metadata": {
        "id": "view-in-github",
        "colab_type": "text"
      },
      "source": [
        "<a href=\"https://colab.research.google.com/github/noahgift/coderz/blob/master/function.ipynb\" target=\"_parent\"><img src=\"https://colab.research.google.com/assets/colab-badge.svg\" alt=\"Open In Colab\"/></a>"
      ]
    },
    {
      "cell_type": "markdown",
      "metadata": {
        "id": "s0bqCoAsiGbk",
        "colab_type": "text"
      },
      "source": [
        "What is a function?\n",
        "\n",
        "* A unit of work\n",
        "* takes something in\n",
        "* processes it\n",
        "* Returns result"
      ]
    },
    {
      "cell_type": "markdown",
      "metadata": {
        "id": "hmq2N6lWjG0q",
        "colab_type": "text"
      },
      "source": [
        "How is different than a statement?\n",
        "\n",
        "* Statement isn't reusable\n"
      ]
    },
    {
      "cell_type": "code",
      "metadata": {
        "id": "slPfBCB2jOnh",
        "colab_type": "code",
        "colab": {
          "base_uri": "https://localhost:8080/",
          "height": 34
        },
        "outputId": "0f307942-e445-4a33-fba7-37f067b6af40"
      },
      "source": [
        "x = 1\n",
        "y = 2\n",
        "x + y"
      ],
      "execution_count": 1,
      "outputs": [
        {
          "output_type": "execute_result",
          "data": {
            "text/plain": [
              "3"
            ]
          },
          "metadata": {
            "tags": []
          },
          "execution_count": 1
        }
      ]
    },
    {
      "cell_type": "code",
      "metadata": {
        "id": "trTcpd1Lj5B_",
        "colab_type": "code",
        "colab": {
          "base_uri": "https://localhost:8080/",
          "height": 34
        },
        "outputId": "7578b321-c9f9-4b77-bed1-09821948a1fb"
      },
      "source": [
        "a = 4\n",
        "b = 5\n",
        "b - a \n"
      ],
      "execution_count": 2,
      "outputs": [
        {
          "output_type": "execute_result",
          "data": {
            "text/plain": [
              "1"
            ]
          },
          "metadata": {
            "tags": []
          },
          "execution_count": 2
        }
      ]
    },
    {
      "cell_type": "markdown",
      "metadata": {
        "id": "nEYgjse2iQtL",
        "colab_type": "text"
      },
      "source": [
        "### Add function"
      ]
    },
    {
      "cell_type": "code",
      "metadata": {
        "colab_type": "code",
        "id": "gXJOz3XMkgO_",
        "colab": {
          "base_uri": "https://localhost:8080/",
          "height": 34
        },
        "outputId": "4cf709e3-cc92-4d9e-9888-4313edcc2d7d"
      },
      "source": [
        "x = 1\n",
        "y = 2\n",
        "x + y"
      ],
      "execution_count": 9,
      "outputs": [
        {
          "output_type": "execute_result",
          "data": {
            "text/plain": [
              "3"
            ]
          },
          "metadata": {
            "tags": []
          },
          "execution_count": 9
        }
      ]
    },
    {
      "cell_type": "code",
      "metadata": {
        "id": "B372jRLekpNW",
        "colab_type": "code",
        "colab": {
          "base_uri": "https://localhost:8080/",
          "height": 34
        },
        "outputId": "358fd168-eccc-4210-ee3c-e0c1043d6555"
      },
      "source": [
        "x = 2\n",
        "y = 2\n",
        "x+y"
      ],
      "execution_count": 10,
      "outputs": [
        {
          "output_type": "execute_result",
          "data": {
            "text/plain": [
              "4"
            ]
          },
          "metadata": {
            "tags": []
          },
          "execution_count": 10
        }
      ]
    },
    {
      "cell_type": "code",
      "metadata": {
        "id": "18JMtyl0iELM",
        "colab_type": "code",
        "colab": {}
      },
      "source": [
        "def add(x,y):\n",
        "    return x+y\n",
        "\n",
        "    "
      ],
      "execution_count": 3,
      "outputs": []
    },
    {
      "cell_type": "code",
      "metadata": {
        "id": "wsM2S1lOiYup",
        "colab_type": "code",
        "colab": {
          "base_uri": "https://localhost:8080/",
          "height": 34
        },
        "outputId": "7a97cd2f-e53b-4e64-fd31-9d704e99a01e"
      },
      "source": [
        "add(1,2)"
      ],
      "execution_count": 4,
      "outputs": [
        {
          "output_type": "execute_result",
          "data": {
            "text/plain": [
              "3"
            ]
          },
          "metadata": {
            "tags": []
          },
          "execution_count": 4
        }
      ]
    },
    {
      "cell_type": "code",
      "metadata": {
        "id": "B93SIw1ukDbK",
        "colab_type": "code",
        "colab": {
          "base_uri": "https://localhost:8080/",
          "height": 34
        },
        "outputId": "b7f9d492-f0ef-4d0a-951d-6505a1ea44d1"
      },
      "source": [
        "add(2,2)"
      ],
      "execution_count": 5,
      "outputs": [
        {
          "output_type": "execute_result",
          "data": {
            "text/plain": [
              "4"
            ]
          },
          "metadata": {
            "tags": []
          },
          "execution_count": 5
        }
      ]
    },
    {
      "cell_type": "markdown",
      "metadata": {
        "id": "EzmiAU19iglW",
        "colab_type": "text"
      },
      "source": [
        "## Make Subtract Function"
      ]
    },
    {
      "cell_type": "code",
      "metadata": {
        "colab_type": "code",
        "id": "bubQ-ykgkNX2",
        "colab": {
          "base_uri": "https://localhost:8080/",
          "height": 34
        },
        "outputId": "71e64345-908f-438d-ce0a-ae5b92f9c30f"
      },
      "source": [
        "a = 4\n",
        "b = 5\n",
        "b - a \n"
      ],
      "execution_count": 6,
      "outputs": [
        {
          "output_type": "execute_result",
          "data": {
            "text/plain": [
              "1"
            ]
          },
          "metadata": {
            "tags": []
          },
          "execution_count": 6
        }
      ]
    },
    {
      "cell_type": "code",
      "metadata": {
        "id": "hJejjCCNkyuv",
        "colab_type": "code",
        "colab": {}
      },
      "source": [
        "def sub(x,y):\n",
        "    return x-y\n",
        "\n",
        "    "
      ],
      "execution_count": 11,
      "outputs": []
    },
    {
      "cell_type": "code",
      "metadata": {
        "id": "8se_Q1JmlDjG",
        "colab_type": "code",
        "colab": {
          "base_uri": "https://localhost:8080/",
          "height": 34
        },
        "outputId": "3573b4c3-0680-4031-e40d-3379accb474d"
      },
      "source": [
        "sub(3,4)"
      ],
      "execution_count": 12,
      "outputs": [
        {
          "output_type": "execute_result",
          "data": {
            "text/plain": [
              "-1"
            ]
          },
          "metadata": {
            "tags": []
          },
          "execution_count": 12
        }
      ]
    },
    {
      "cell_type": "markdown",
      "metadata": {
        "id": "1fnvP9LAijC6",
        "colab_type": "text"
      },
      "source": [
        "## Make Two Strings add Function"
      ]
    },
    {
      "cell_type": "code",
      "metadata": {
        "id": "qsPFKLqRil5n",
        "colab_type": "code",
        "colab": {
          "base_uri": "https://localhost:8080/",
          "height": 35
        },
        "outputId": "9afbeea0-e8d9-447d-a902-f6942081dece"
      },
      "source": [
        "\"apple\" + \" butter\""
      ],
      "execution_count": 7,
      "outputs": [
        {
          "output_type": "execute_result",
          "data": {
            "application/vnd.google.colaboratory.intrinsic": {
              "type": "string"
            },
            "text/plain": [
              "'apple butter'"
            ]
          },
          "metadata": {
            "tags": []
          },
          "execution_count": 7
        }
      ]
    },
    {
      "cell_type": "code",
      "metadata": {
        "id": "btgjJ_FTlKS9",
        "colab_type": "code",
        "colab": {}
      },
      "source": [
        "def rat(x,y):\n",
        "    return x+y"
      ],
      "execution_count": 13,
      "outputs": []
    },
    {
      "cell_type": "code",
      "metadata": {
        "id": "MUlmMbeble6C",
        "colab_type": "code",
        "colab": {
          "base_uri": "https://localhost:8080/",
          "height": 35
        },
        "outputId": "eae2c3fe-3255-4f83-8e30-89be7dfa8f8a"
      },
      "source": [
        "rat(\"things\", \"thingy\")"
      ],
      "execution_count": 14,
      "outputs": [
        {
          "output_type": "execute_result",
          "data": {
            "application/vnd.google.colaboratory.intrinsic": {
              "type": "string"
            },
            "text/plain": [
              "'thingsthingy'"
            ]
          },
          "metadata": {
            "tags": []
          },
          "execution_count": 14
        }
      ]
    },
    {
      "cell_type": "code",
      "metadata": {
        "id": "IDpDHLOVltUG",
        "colab_type": "code",
        "colab": {
          "base_uri": "https://localhost:8080/",
          "height": 35
        },
        "outputId": "ae0e5dd4-1fd6-4448-c8a1-c78f3ac9dc8b"
      },
      "source": [
        "rat(\"what time\", \" is it\")"
      ],
      "execution_count": 15,
      "outputs": [
        {
          "output_type": "execute_result",
          "data": {
            "application/vnd.google.colaboratory.intrinsic": {
              "type": "string"
            },
            "text/plain": [
              "'what time is it'"
            ]
          },
          "metadata": {
            "tags": []
          },
          "execution_count": 15
        }
      ]
    },
    {
      "cell_type": "markdown",
      "metadata": {
        "id": "0sDlxudVinHb",
        "colab_type": "text"
      },
      "source": [
        "### Make a String Multiply by some number"
      ]
    },
    {
      "cell_type": "code",
      "metadata": {
        "id": "UyT_C9vvldGu",
        "colab_type": "code",
        "colab": {}
      },
      "source": [
        ""
      ],
      "execution_count": null,
      "outputs": []
    },
    {
      "cell_type": "code",
      "metadata": {
        "id": "8ZnASRG_iryx",
        "colab_type": "code",
        "colab": {
          "base_uri": "https://localhost:8080/",
          "height": 35
        },
        "outputId": "e797c2dc-be63-4c00-8443-1d5ccc228851"
      },
      "source": [
        "\"apples \" * 5"
      ],
      "execution_count": 8,
      "outputs": [
        {
          "output_type": "execute_result",
          "data": {
            "application/vnd.google.colaboratory.intrinsic": {
              "type": "string"
            },
            "text/plain": [
              "'apples apples apples apples apples '"
            ]
          },
          "metadata": {
            "tags": []
          },
          "execution_count": 8
        }
      ]
    },
    {
      "cell_type": "code",
      "metadata": {
        "id": "uzK-kEgfkWP-",
        "colab_type": "code",
        "colab": {}
      },
      "source": [
        "def mulstr(x,y):\n",
        "    return x*y"
      ],
      "execution_count": 16,
      "outputs": []
    },
    {
      "cell_type": "code",
      "metadata": {
        "id": "wEbNJGPgmJ_l",
        "colab_type": "code",
        "colab": {
          "base_uri": "https://localhost:8080/",
          "height": 52
        },
        "outputId": "61567599-ce16-40c4-d3c9-09d7f24b1557"
      },
      "source": [
        "mulstr(\"bruh \", 69)"
      ],
      "execution_count": 18,
      "outputs": [
        {
          "output_type": "execute_result",
          "data": {
            "application/vnd.google.colaboratory.intrinsic": {
              "type": "string"
            },
            "text/plain": [
              "'bruh bruh bruh bruh bruh bruh bruh bruh bruh bruh bruh bruh bruh bruh bruh bruh bruh bruh bruh bruh bruh bruh bruh bruh bruh bruh bruh bruh bruh bruh bruh bruh bruh bruh bruh bruh bruh bruh bruh bruh bruh bruh bruh bruh bruh bruh bruh bruh bruh bruh bruh bruh bruh bruh bruh bruh bruh bruh bruh bruh bruh bruh bruh bruh bruh bruh bruh bruh bruh '"
            ]
          },
          "metadata": {
            "tags": []
          },
          "execution_count": 18
        }
      ]
    },
    {
      "cell_type": "code",
      "metadata": {
        "id": "8iOHLHkAmQ6N",
        "colab_type": "code",
        "colab": {}
      },
      "source": [
        ""
      ],
      "execution_count": null,
      "outputs": []
    },
    {
      "cell_type": "markdown",
      "metadata": {
        "id": "cpQcPV23me2o",
        "colab_type": "text"
      },
      "source": [
        "## Function can take another function"
      ]
    },
    {
      "cell_type": "code",
      "metadata": {
        "id": "fozGC4RWm3vK",
        "colab_type": "code",
        "colab": {}
      },
      "source": [
        "def myadd():\n",
        "    return 1+2"
      ],
      "execution_count": 30,
      "outputs": []
    },
    {
      "cell_type": "code",
      "metadata": {
        "id": "3M23avfum-k1",
        "colab_type": "code",
        "colab": {
          "base_uri": "https://localhost:8080/",
          "height": 34
        },
        "outputId": "7d73fd15-64c8-4f45-e432-5a65ec7b6a61"
      },
      "source": [
        "myadd()"
      ],
      "execution_count": 33,
      "outputs": [
        {
          "output_type": "execute_result",
          "data": {
            "text/plain": [
              "3"
            ]
          },
          "metadata": {
            "tags": []
          },
          "execution_count": 33
        }
      ]
    },
    {
      "cell_type": "code",
      "metadata": {
        "id": "GF8KscJ8migR",
        "colab_type": "code",
        "colab": {}
      },
      "source": [
        "def addall(addfunc, times):\n",
        "    print(f\"This function is about to add this many times: {times}\")\n",
        "    result = addfunc() * times\n",
        "    return result"
      ],
      "execution_count": 28,
      "outputs": []
    },
    {
      "cell_type": "code",
      "metadata": {
        "id": "pn3d_r2Mm1gF",
        "colab_type": "code",
        "colab": {
          "base_uri": "https://localhost:8080/",
          "height": 51
        },
        "outputId": "a6c14733-4cf3-4327-f4a7-a265f891416c"
      },
      "source": [
        "addall(myadd, 5)"
      ],
      "execution_count": 29,
      "outputs": [
        {
          "output_type": "stream",
          "text": [
            "This function is about to add this many times: 5\n"
          ],
          "name": "stdout"
        },
        {
          "output_type": "execute_result",
          "data": {
            "text/plain": [
              "15"
            ]
          },
          "metadata": {
            "tags": []
          },
          "execution_count": 29
        }
      ]
    },
    {
      "cell_type": "code",
      "metadata": {
        "id": "uUCNZgRenDRl",
        "colab_type": "code",
        "colab": {}
      },
      "source": [
        ""
      ],
      "execution_count": null,
      "outputs": []
    },
    {
      "cell_type": "markdown",
      "metadata": {
        "id": "VNZQ8X1SnbSn",
        "colab_type": "text"
      },
      "source": [
        "### Can use parameters"
      ]
    },
    {
      "cell_type": "code",
      "metadata": {
        "id": "DVb20K1BndMx",
        "colab_type": "code",
        "colab": {}
      },
      "source": [
        "def study(subject=\"piano\", hours=\"3\"):\n",
        "    return f\"I like to study {subject} for {hours} hours\""
      ],
      "execution_count": 36,
      "outputs": []
    },
    {
      "cell_type": "code",
      "metadata": {
        "id": "eUii7jLhnr5F",
        "colab_type": "code",
        "colab": {
          "base_uri": "https://localhost:8080/",
          "height": 35
        },
        "outputId": "fc6c3213-c6cc-4e11-e802-5c4cc14a94ff"
      },
      "source": [
        "study()"
      ],
      "execution_count": 37,
      "outputs": [
        {
          "output_type": "execute_result",
          "data": {
            "application/vnd.google.colaboratory.intrinsic": {
              "type": "string"
            },
            "text/plain": [
              "'I like to study piano for 3 hours'"
            ]
          },
          "metadata": {
            "tags": []
          },
          "execution_count": 37
        }
      ]
    },
    {
      "cell_type": "code",
      "metadata": {
        "id": "Hw3BGFPQntgs",
        "colab_type": "code",
        "colab": {
          "base_uri": "https://localhost:8080/",
          "height": 35
        },
        "outputId": "dc7e20a5-7b01-4e40-acdb-42260ecf112a"
      },
      "source": [
        "study(subject=\"twitch\", hours=\"20\")"
      ],
      "execution_count": 38,
      "outputs": [
        {
          "output_type": "execute_result",
          "data": {
            "application/vnd.google.colaboratory.intrinsic": {
              "type": "string"
            },
            "text/plain": [
              "'I like to study twitch for 20 hours'"
            ]
          },
          "metadata": {
            "tags": []
          },
          "execution_count": 38
        }
      ]
    },
    {
      "cell_type": "markdown",
      "metadata": {
        "id": "ViRHKv3Mn22q",
        "colab_type": "text"
      },
      "source": [
        "### Build your own sentence function that has default parameters that can swap out a phrase"
      ]
    },
    {
      "cell_type": "code",
      "metadata": {
        "id": "V-5IkFDen0Qs",
        "colab_type": "code",
        "colab": {}
      },
      "source": [
        ""
      ],
      "execution_count": null,
      "outputs": []
    },
    {
      "cell_type": "markdown",
      "metadata": {
        "id": "tOHK5KZsqUnc",
        "colab_type": "text"
      },
      "source": [
        "## Bonus Challenge"
      ]
    },
    {
      "cell_type": "markdown",
      "metadata": {
        "id": "0ouX2sMpqXFq",
        "colab_type": "text"
      },
      "source": [
        "Make a function that takes a 'name' variable and returns back \"Marco\" if the name matches \"Marco\" or \"No!\" if it doesn't.  Here is a hint"
      ]
    },
    {
      "cell_type": "code",
      "metadata": {
        "id": "12Cq1KqzqgqI",
        "colab_type": "code",
        "colab": {
          "base_uri": "https://localhost:8080/",
          "height": 34
        },
        "outputId": "07e9db27-7fa5-4123-b1cc-974d19603ab5"
      },
      "source": [
        "word = \"Marco\"\n",
        "if word == \"Marco\":\n",
        "    print(\"Polo\")\n",
        "else:\n",
        "    print(\"No!\")"
      ],
      "execution_count": 44,
      "outputs": [
        {
          "output_type": "stream",
          "text": [
            "Polo\n"
          ],
          "name": "stdout"
        }
      ]
    },
    {
      "cell_type": "code",
      "metadata": {
        "id": "dqL5q03Vq7hI",
        "colab_type": "code",
        "colab": {}
      },
      "source": [
        ""
      ],
      "execution_count": null,
      "outputs": []
    }
  ]
}